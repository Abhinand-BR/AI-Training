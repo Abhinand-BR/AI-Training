{
 "cells": [
  {
   "cell_type": "code",
   "execution_count": 1,
   "id": "7775b516",
   "metadata": {},
   "outputs": [
    {
     "name": "stdout",
     "output_type": "stream",
     "text": [
      "0.5\n"
     ]
    }
   ],
   "source": [
    "#probability - A chance\n",
    "\n",
    "#P(A)=N(A)/N(S)\n",
    "#N(S) = Total chances\n",
    "Basket = ['Apple']*3 + ['orange']*2 + ['banana']*1\n",
    "total_value = len(Basket)\n",
    "t_apple=Basket.count('Apple')/total_value\n",
    "print(t_apple)"
   ]
  },
  {
   "cell_type": "code",
   "execution_count": null,
   "id": "35833e57",
   "metadata": {},
   "outputs": [
    {
     "name": "stdout",
     "output_type": "stream",
     "text": [
      "0.75\n"
     ]
    }
   ],
   "source": [
    "#dice probability to get atleast one head\n",
    "\n",
    "outcomes = ['hh','ht','th','tt']\n",
    "count = 0\n",
    "for i in outcomes:\n",
    "    if 'h' in i:\n",
    "        count+=1\n",
    "else:\n",
    "    print(count/len(outcomes))"
   ]
  },
  {
   "cell_type": "code",
   "execution_count": 7,
   "id": "9d297850",
   "metadata": {},
   "outputs": [
    {
     "name": "stdout",
     "output_type": "stream",
     "text": [
      "0.5\n"
     ]
    }
   ],
   "source": [
    "Basket = ['Apple']*3 + ['Orange']*2 + ['Banana']*1\n",
    "total_value = len(Basket)\n",
    "outcome = (Basket.count('Orange')+Basket.count('Banana'))/total_value\n",
    "print(outcome)\n"
   ]
  },
  {
   "cell_type": "code",
   "execution_count": 4,
   "id": "857a2d0c",
   "metadata": {},
   "outputs": [
    {
     "name": "stdout",
     "output_type": "stream",
     "text": [
      "0.6666666666666666\n"
     ]
    }
   ],
   "source": [
    "Basket = ['Apple']*3 + ['Orange']*2 + ['Banana']*1\n",
    "total_value = len(Basket)\n",
    "org = Basket.count('Orange')\n",
    "orange_removed = (total_value-org)/total_value\n",
    "print(orange_removed)"
   ]
  },
  {
   "cell_type": "code",
   "execution_count": 8,
   "id": "ae07d2ca",
   "metadata": {},
   "outputs": [
    {
     "name": "stdout",
     "output_type": "stream",
     "text": [
      "0.25\n",
      "0.8333333333333334\n"
     ]
    }
   ],
   "source": [
    "total = 100\n",
    "sunny = 40\n",
    "rainy = 60\n",
    "umbrella_sunny = 10\n",
    "umbrella_rainy = 50\n",
    "p_umbrella_given_sunny = umbrella_sunny/sunny\n",
    "p_umbrella_given_rainy = umbrella_rainy/rainy\n",
    "print(p_umbrella_given_sunny)\n",
    "print(p_umbrella_given_rainy)"
   ]
  },
  {
   "cell_type": "code",
   "execution_count": 3,
   "id": "27d23afc",
   "metadata": {},
   "outputs": [
    {
     "name": "stdout",
     "output_type": "stream",
     "text": [
      "0.75\n"
     ]
    }
   ],
   "source": [
    "p_spam = 40\n",
    "p_not_spam = 60\n",
    "p_win_given_spam = 30/40\n",
    "p_win_given_not_spam = 10/60\n",
    "p_win = (p_win_given_spam*p_spam)+(p_win_given_not_spam*p_not_spam)\n",
    "p_spam_given_win = (p_win_given_spam * p_spam)/p_win\n",
    "print(p_spam_given_win)"
   ]
  },
  {
   "cell_type": "code",
   "execution_count": null,
   "id": "1356a782",
   "metadata": {},
   "outputs": [],
   "source": []
  }
 ],
 "metadata": {
  "kernelspec": {
   "display_name": "Python 3",
   "language": "python",
   "name": "python3"
  },
  "language_info": {
   "codemirror_mode": {
    "name": "ipython",
    "version": 3
   },
   "file_extension": ".py",
   "mimetype": "text/x-python",
   "name": "python",
   "nbconvert_exporter": "python",
   "pygments_lexer": "ipython3",
   "version": "3.13.5"
  }
 },
 "nbformat": 4,
 "nbformat_minor": 5
}
